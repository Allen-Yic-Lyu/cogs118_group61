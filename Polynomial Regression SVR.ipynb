{
 "cells": [
  {
   "cell_type": "markdown",
   "metadata": {},
   "source": [
    "<font size=\"6\">Data Visualization</font>"
   ]
  },
  {
   "cell_type": "markdown",
   "metadata": {},
   "source": [
    "From the Our World in Data Website, we are able to download a csv file of COVID-19 cases Worldwide. One advantage of this dataset is that it updated daily so we can reload it each day to keep track of the latest data. The full dataset is available at \n",
    "https://ourworldindata.org/coronavirus-source-data. The data can be divided into two categories: 1. geographically by country 2.data type by confirmed cases and deaths."
   ]
  },
  {
   "cell_type": "code",
   "execution_count": 6,
   "metadata": {},
   "outputs": [],
   "source": [
    "import pandas as pd\n",
    "import matplotlib.pyplot as plt\n",
    "import numpy as np\n",
    "import statsmodels as sm\n",
    "from statsmodels.graphics.tsaplots import plot_acf\n",
    "from sklearn.preprocessing import PolynomialFeatures\n",
    "from sklearn.linear_model import LinearRegression\n",
    "from sklearn.model_selection import KFold\n",
    "from sklearn.metrics import mean_squared_error\n",
    "from sklearn import metrics\n",
    "from sklearn.svm import SVR\n",
    "from sklearn.preprocessing import StandardScaler"
   ]
  },
  {
   "cell_type": "code",
   "execution_count": 8,
   "metadata": {},
   "outputs": [
    {
     "data": {
      "text/html": [
       "<div>\n",
       "<style scoped>\n",
       "    .dataframe tbody tr th:only-of-type {\n",
       "        vertical-align: middle;\n",
       "    }\n",
       "\n",
       "    .dataframe tbody tr th {\n",
       "        vertical-align: top;\n",
       "    }\n",
       "\n",
       "    .dataframe thead th {\n",
       "        text-align: right;\n",
       "    }\n",
       "</style>\n",
       "<table border=\"1\" class=\"dataframe\">\n",
       "  <thead>\n",
       "    <tr style=\"text-align: right;\">\n",
       "      <th></th>\n",
       "      <th>iso_code</th>\n",
       "      <th>continent</th>\n",
       "      <th>location</th>\n",
       "      <th>date</th>\n",
       "      <th>total_cases</th>\n",
       "      <th>new_cases</th>\n",
       "      <th>new_cases_smoothed</th>\n",
       "      <th>total_deaths</th>\n",
       "      <th>new_deaths</th>\n",
       "      <th>new_deaths_smoothed</th>\n",
       "      <th>...</th>\n",
       "      <th>female_smokers</th>\n",
       "      <th>male_smokers</th>\n",
       "      <th>handwashing_facilities</th>\n",
       "      <th>hospital_beds_per_thousand</th>\n",
       "      <th>life_expectancy</th>\n",
       "      <th>human_development_index</th>\n",
       "      <th>excess_mortality_cumulative_absolute</th>\n",
       "      <th>excess_mortality_cumulative</th>\n",
       "      <th>excess_mortality</th>\n",
       "      <th>excess_mortality_cumulative_per_million</th>\n",
       "    </tr>\n",
       "  </thead>\n",
       "  <tbody>\n",
       "    <tr>\n",
       "      <th>0</th>\n",
       "      <td>AFG</td>\n",
       "      <td>Asia</td>\n",
       "      <td>Afghanistan</td>\n",
       "      <td>2020-02-24</td>\n",
       "      <td>5.0</td>\n",
       "      <td>5.0</td>\n",
       "      <td>NaN</td>\n",
       "      <td>NaN</td>\n",
       "      <td>NaN</td>\n",
       "      <td>NaN</td>\n",
       "      <td>...</td>\n",
       "      <td>NaN</td>\n",
       "      <td>NaN</td>\n",
       "      <td>37.746</td>\n",
       "      <td>0.5</td>\n",
       "      <td>64.83</td>\n",
       "      <td>0.511</td>\n",
       "      <td>NaN</td>\n",
       "      <td>NaN</td>\n",
       "      <td>NaN</td>\n",
       "      <td>NaN</td>\n",
       "    </tr>\n",
       "    <tr>\n",
       "      <th>1</th>\n",
       "      <td>AFG</td>\n",
       "      <td>Asia</td>\n",
       "      <td>Afghanistan</td>\n",
       "      <td>2020-02-25</td>\n",
       "      <td>5.0</td>\n",
       "      <td>0.0</td>\n",
       "      <td>NaN</td>\n",
       "      <td>NaN</td>\n",
       "      <td>NaN</td>\n",
       "      <td>NaN</td>\n",
       "      <td>...</td>\n",
       "      <td>NaN</td>\n",
       "      <td>NaN</td>\n",
       "      <td>37.746</td>\n",
       "      <td>0.5</td>\n",
       "      <td>64.83</td>\n",
       "      <td>0.511</td>\n",
       "      <td>NaN</td>\n",
       "      <td>NaN</td>\n",
       "      <td>NaN</td>\n",
       "      <td>NaN</td>\n",
       "    </tr>\n",
       "    <tr>\n",
       "      <th>2</th>\n",
       "      <td>AFG</td>\n",
       "      <td>Asia</td>\n",
       "      <td>Afghanistan</td>\n",
       "      <td>2020-02-26</td>\n",
       "      <td>5.0</td>\n",
       "      <td>0.0</td>\n",
       "      <td>NaN</td>\n",
       "      <td>NaN</td>\n",
       "      <td>NaN</td>\n",
       "      <td>NaN</td>\n",
       "      <td>...</td>\n",
       "      <td>NaN</td>\n",
       "      <td>NaN</td>\n",
       "      <td>37.746</td>\n",
       "      <td>0.5</td>\n",
       "      <td>64.83</td>\n",
       "      <td>0.511</td>\n",
       "      <td>NaN</td>\n",
       "      <td>NaN</td>\n",
       "      <td>NaN</td>\n",
       "      <td>NaN</td>\n",
       "    </tr>\n",
       "    <tr>\n",
       "      <th>3</th>\n",
       "      <td>AFG</td>\n",
       "      <td>Asia</td>\n",
       "      <td>Afghanistan</td>\n",
       "      <td>2020-02-27</td>\n",
       "      <td>5.0</td>\n",
       "      <td>0.0</td>\n",
       "      <td>NaN</td>\n",
       "      <td>NaN</td>\n",
       "      <td>NaN</td>\n",
       "      <td>NaN</td>\n",
       "      <td>...</td>\n",
       "      <td>NaN</td>\n",
       "      <td>NaN</td>\n",
       "      <td>37.746</td>\n",
       "      <td>0.5</td>\n",
       "      <td>64.83</td>\n",
       "      <td>0.511</td>\n",
       "      <td>NaN</td>\n",
       "      <td>NaN</td>\n",
       "      <td>NaN</td>\n",
       "      <td>NaN</td>\n",
       "    </tr>\n",
       "    <tr>\n",
       "      <th>4</th>\n",
       "      <td>AFG</td>\n",
       "      <td>Asia</td>\n",
       "      <td>Afghanistan</td>\n",
       "      <td>2020-02-28</td>\n",
       "      <td>5.0</td>\n",
       "      <td>0.0</td>\n",
       "      <td>NaN</td>\n",
       "      <td>NaN</td>\n",
       "      <td>NaN</td>\n",
       "      <td>NaN</td>\n",
       "      <td>...</td>\n",
       "      <td>NaN</td>\n",
       "      <td>NaN</td>\n",
       "      <td>37.746</td>\n",
       "      <td>0.5</td>\n",
       "      <td>64.83</td>\n",
       "      <td>0.511</td>\n",
       "      <td>NaN</td>\n",
       "      <td>NaN</td>\n",
       "      <td>NaN</td>\n",
       "      <td>NaN</td>\n",
       "    </tr>\n",
       "    <tr>\n",
       "      <th>...</th>\n",
       "      <td>...</td>\n",
       "      <td>...</td>\n",
       "      <td>...</td>\n",
       "      <td>...</td>\n",
       "      <td>...</td>\n",
       "      <td>...</td>\n",
       "      <td>...</td>\n",
       "      <td>...</td>\n",
       "      <td>...</td>\n",
       "      <td>...</td>\n",
       "      <td>...</td>\n",
       "      <td>...</td>\n",
       "      <td>...</td>\n",
       "      <td>...</td>\n",
       "      <td>...</td>\n",
       "      <td>...</td>\n",
       "      <td>...</td>\n",
       "      <td>...</td>\n",
       "      <td>...</td>\n",
       "      <td>...</td>\n",
       "      <td>...</td>\n",
       "    </tr>\n",
       "    <tr>\n",
       "      <th>134010</th>\n",
       "      <td>ZWE</td>\n",
       "      <td>Africa</td>\n",
       "      <td>Zimbabwe</td>\n",
       "      <td>2021-11-13</td>\n",
       "      <td>133393.0</td>\n",
       "      <td>64.0</td>\n",
       "      <td>32.143</td>\n",
       "      <td>4696.0</td>\n",
       "      <td>2.0</td>\n",
       "      <td>1.571</td>\n",
       "      <td>...</td>\n",
       "      <td>1.6</td>\n",
       "      <td>30.7</td>\n",
       "      <td>36.791</td>\n",
       "      <td>1.7</td>\n",
       "      <td>61.49</td>\n",
       "      <td>0.571</td>\n",
       "      <td>NaN</td>\n",
       "      <td>NaN</td>\n",
       "      <td>NaN</td>\n",
       "      <td>NaN</td>\n",
       "    </tr>\n",
       "    <tr>\n",
       "      <th>134011</th>\n",
       "      <td>ZWE</td>\n",
       "      <td>Africa</td>\n",
       "      <td>Zimbabwe</td>\n",
       "      <td>2021-11-14</td>\n",
       "      <td>133428.0</td>\n",
       "      <td>35.0</td>\n",
       "      <td>34.429</td>\n",
       "      <td>4696.0</td>\n",
       "      <td>0.0</td>\n",
       "      <td>1.571</td>\n",
       "      <td>...</td>\n",
       "      <td>1.6</td>\n",
       "      <td>30.7</td>\n",
       "      <td>36.791</td>\n",
       "      <td>1.7</td>\n",
       "      <td>61.49</td>\n",
       "      <td>0.571</td>\n",
       "      <td>NaN</td>\n",
       "      <td>NaN</td>\n",
       "      <td>NaN</td>\n",
       "      <td>NaN</td>\n",
       "    </tr>\n",
       "    <tr>\n",
       "      <th>134012</th>\n",
       "      <td>ZWE</td>\n",
       "      <td>Africa</td>\n",
       "      <td>Zimbabwe</td>\n",
       "      <td>2021-11-15</td>\n",
       "      <td>133438.0</td>\n",
       "      <td>10.0</td>\n",
       "      <td>33.286</td>\n",
       "      <td>4697.0</td>\n",
       "      <td>1.0</td>\n",
       "      <td>1.000</td>\n",
       "      <td>...</td>\n",
       "      <td>1.6</td>\n",
       "      <td>30.7</td>\n",
       "      <td>36.791</td>\n",
       "      <td>1.7</td>\n",
       "      <td>61.49</td>\n",
       "      <td>0.571</td>\n",
       "      <td>NaN</td>\n",
       "      <td>NaN</td>\n",
       "      <td>NaN</td>\n",
       "      <td>NaN</td>\n",
       "    </tr>\n",
       "    <tr>\n",
       "      <th>134013</th>\n",
       "      <td>ZWE</td>\n",
       "      <td>Africa</td>\n",
       "      <td>Zimbabwe</td>\n",
       "      <td>2021-11-16</td>\n",
       "      <td>133505.0</td>\n",
       "      <td>67.0</td>\n",
       "      <td>37.571</td>\n",
       "      <td>4698.0</td>\n",
       "      <td>1.0</td>\n",
       "      <td>1.000</td>\n",
       "      <td>...</td>\n",
       "      <td>1.6</td>\n",
       "      <td>30.7</td>\n",
       "      <td>36.791</td>\n",
       "      <td>1.7</td>\n",
       "      <td>61.49</td>\n",
       "      <td>0.571</td>\n",
       "      <td>NaN</td>\n",
       "      <td>NaN</td>\n",
       "      <td>NaN</td>\n",
       "      <td>NaN</td>\n",
       "    </tr>\n",
       "    <tr>\n",
       "      <th>134014</th>\n",
       "      <td>ZWE</td>\n",
       "      <td>Africa</td>\n",
       "      <td>Zimbabwe</td>\n",
       "      <td>2021-11-17</td>\n",
       "      <td>133557.0</td>\n",
       "      <td>52.0</td>\n",
       "      <td>36.429</td>\n",
       "      <td>4699.0</td>\n",
       "      <td>1.0</td>\n",
       "      <td>0.714</td>\n",
       "      <td>...</td>\n",
       "      <td>1.6</td>\n",
       "      <td>30.7</td>\n",
       "      <td>36.791</td>\n",
       "      <td>1.7</td>\n",
       "      <td>61.49</td>\n",
       "      <td>0.571</td>\n",
       "      <td>NaN</td>\n",
       "      <td>NaN</td>\n",
       "      <td>NaN</td>\n",
       "      <td>NaN</td>\n",
       "    </tr>\n",
       "  </tbody>\n",
       "</table>\n",
       "<p>134015 rows × 67 columns</p>\n",
       "</div>"
      ],
      "text/plain": [
       "       iso_code continent     location        date  total_cases  new_cases  \\\n",
       "0           AFG      Asia  Afghanistan  2020-02-24          5.0        5.0   \n",
       "1           AFG      Asia  Afghanistan  2020-02-25          5.0        0.0   \n",
       "2           AFG      Asia  Afghanistan  2020-02-26          5.0        0.0   \n",
       "3           AFG      Asia  Afghanistan  2020-02-27          5.0        0.0   \n",
       "4           AFG      Asia  Afghanistan  2020-02-28          5.0        0.0   \n",
       "...         ...       ...          ...         ...          ...        ...   \n",
       "134010      ZWE    Africa     Zimbabwe  2021-11-13     133393.0       64.0   \n",
       "134011      ZWE    Africa     Zimbabwe  2021-11-14     133428.0       35.0   \n",
       "134012      ZWE    Africa     Zimbabwe  2021-11-15     133438.0       10.0   \n",
       "134013      ZWE    Africa     Zimbabwe  2021-11-16     133505.0       67.0   \n",
       "134014      ZWE    Africa     Zimbabwe  2021-11-17     133557.0       52.0   \n",
       "\n",
       "        new_cases_smoothed  total_deaths  new_deaths  new_deaths_smoothed  \\\n",
       "0                      NaN           NaN         NaN                  NaN   \n",
       "1                      NaN           NaN         NaN                  NaN   \n",
       "2                      NaN           NaN         NaN                  NaN   \n",
       "3                      NaN           NaN         NaN                  NaN   \n",
       "4                      NaN           NaN         NaN                  NaN   \n",
       "...                    ...           ...         ...                  ...   \n",
       "134010              32.143        4696.0         2.0                1.571   \n",
       "134011              34.429        4696.0         0.0                1.571   \n",
       "134012              33.286        4697.0         1.0                1.000   \n",
       "134013              37.571        4698.0         1.0                1.000   \n",
       "134014              36.429        4699.0         1.0                0.714   \n",
       "\n",
       "        ...  female_smokers  male_smokers  handwashing_facilities  \\\n",
       "0       ...             NaN           NaN                  37.746   \n",
       "1       ...             NaN           NaN                  37.746   \n",
       "2       ...             NaN           NaN                  37.746   \n",
       "3       ...             NaN           NaN                  37.746   \n",
       "4       ...             NaN           NaN                  37.746   \n",
       "...     ...             ...           ...                     ...   \n",
       "134010  ...             1.6          30.7                  36.791   \n",
       "134011  ...             1.6          30.7                  36.791   \n",
       "134012  ...             1.6          30.7                  36.791   \n",
       "134013  ...             1.6          30.7                  36.791   \n",
       "134014  ...             1.6          30.7                  36.791   \n",
       "\n",
       "        hospital_beds_per_thousand  life_expectancy  human_development_index  \\\n",
       "0                              0.5            64.83                    0.511   \n",
       "1                              0.5            64.83                    0.511   \n",
       "2                              0.5            64.83                    0.511   \n",
       "3                              0.5            64.83                    0.511   \n",
       "4                              0.5            64.83                    0.511   \n",
       "...                            ...              ...                      ...   \n",
       "134010                         1.7            61.49                    0.571   \n",
       "134011                         1.7            61.49                    0.571   \n",
       "134012                         1.7            61.49                    0.571   \n",
       "134013                         1.7            61.49                    0.571   \n",
       "134014                         1.7            61.49                    0.571   \n",
       "\n",
       "        excess_mortality_cumulative_absolute  excess_mortality_cumulative  \\\n",
       "0                                        NaN                          NaN   \n",
       "1                                        NaN                          NaN   \n",
       "2                                        NaN                          NaN   \n",
       "3                                        NaN                          NaN   \n",
       "4                                        NaN                          NaN   \n",
       "...                                      ...                          ...   \n",
       "134010                                   NaN                          NaN   \n",
       "134011                                   NaN                          NaN   \n",
       "134012                                   NaN                          NaN   \n",
       "134013                                   NaN                          NaN   \n",
       "134014                                   NaN                          NaN   \n",
       "\n",
       "        excess_mortality  excess_mortality_cumulative_per_million  \n",
       "0                    NaN                                      NaN  \n",
       "1                    NaN                                      NaN  \n",
       "2                    NaN                                      NaN  \n",
       "3                    NaN                                      NaN  \n",
       "4                    NaN                                      NaN  \n",
       "...                  ...                                      ...  \n",
       "134010               NaN                                      NaN  \n",
       "134011               NaN                                      NaN  \n",
       "134012               NaN                                      NaN  \n",
       "134013               NaN                                      NaN  \n",
       "134014               NaN                                      NaN  \n",
       "\n",
       "[134015 rows x 67 columns]"
      ]
     },
     "execution_count": 8,
     "metadata": {},
     "output_type": "execute_result"
    }
   ],
   "source": [
    "#Download the dataset \n",
    "df = pd.read_csv('owid-covid-data.csv')\n",
    "df"
   ]
  },
  {
   "cell_type": "markdown",
   "metadata": {},
   "source": [
    "<font size=\"3\">Since we are particularly interested in the COVID-19 data concerning the US, we have created a separate dataframe for the US's statistics. The columns we are interested in is the date and new cases.</font>"
   ]
  },
  {
   "cell_type": "code",
   "execution_count": 9,
   "metadata": {},
   "outputs": [
    {
     "data": {
      "text/html": [
       "<div>\n",
       "<style scoped>\n",
       "    .dataframe tbody tr th:only-of-type {\n",
       "        vertical-align: middle;\n",
       "    }\n",
       "\n",
       "    .dataframe tbody tr th {\n",
       "        vertical-align: top;\n",
       "    }\n",
       "\n",
       "    .dataframe thead th {\n",
       "        text-align: right;\n",
       "    }\n",
       "</style>\n",
       "<table border=\"1\" class=\"dataframe\">\n",
       "  <thead>\n",
       "    <tr style=\"text-align: right;\">\n",
       "      <th></th>\n",
       "      <th>Date</th>\n",
       "      <th>New_Cases</th>\n",
       "    </tr>\n",
       "  </thead>\n",
       "  <tbody>\n",
       "    <tr>\n",
       "      <th>126473</th>\n",
       "      <td>2020-01-23</td>\n",
       "      <td>0.0</td>\n",
       "    </tr>\n",
       "    <tr>\n",
       "      <th>126474</th>\n",
       "      <td>2020-01-24</td>\n",
       "      <td>1.0</td>\n",
       "    </tr>\n",
       "    <tr>\n",
       "      <th>126475</th>\n",
       "      <td>2020-01-25</td>\n",
       "      <td>0.0</td>\n",
       "    </tr>\n",
       "    <tr>\n",
       "      <th>126476</th>\n",
       "      <td>2020-01-26</td>\n",
       "      <td>3.0</td>\n",
       "    </tr>\n",
       "    <tr>\n",
       "      <th>126477</th>\n",
       "      <td>2020-01-27</td>\n",
       "      <td>0.0</td>\n",
       "    </tr>\n",
       "    <tr>\n",
       "      <th>...</th>\n",
       "      <td>...</td>\n",
       "      <td>...</td>\n",
       "    </tr>\n",
       "    <tr>\n",
       "      <th>127133</th>\n",
       "      <td>2021-11-13</td>\n",
       "      <td>47499.0</td>\n",
       "    </tr>\n",
       "    <tr>\n",
       "      <th>127134</th>\n",
       "      <td>2021-11-14</td>\n",
       "      <td>24810.0</td>\n",
       "    </tr>\n",
       "    <tr>\n",
       "      <th>127135</th>\n",
       "      <td>2021-11-15</td>\n",
       "      <td>142099.0</td>\n",
       "    </tr>\n",
       "    <tr>\n",
       "      <th>127136</th>\n",
       "      <td>2021-11-16</td>\n",
       "      <td>87481.0</td>\n",
       "    </tr>\n",
       "    <tr>\n",
       "      <th>127137</th>\n",
       "      <td>2021-11-17</td>\n",
       "      <td>111106.0</td>\n",
       "    </tr>\n",
       "  </tbody>\n",
       "</table>\n",
       "<p>665 rows × 2 columns</p>\n",
       "</div>"
      ],
      "text/plain": [
       "              Date  New_Cases\n",
       "126473  2020-01-23        0.0\n",
       "126474  2020-01-24        1.0\n",
       "126475  2020-01-25        0.0\n",
       "126476  2020-01-26        3.0\n",
       "126477  2020-01-27        0.0\n",
       "...            ...        ...\n",
       "127133  2021-11-13    47499.0\n",
       "127134  2021-11-14    24810.0\n",
       "127135  2021-11-15   142099.0\n",
       "127136  2021-11-16    87481.0\n",
       "127137  2021-11-17   111106.0\n",
       "\n",
       "[665 rows x 2 columns]"
      ]
     },
     "execution_count": 9,
     "metadata": {},
     "output_type": "execute_result"
    }
   ],
   "source": [
    "Country = 'United States'\n",
    "US = df[df['location']==Country]\n",
    "#series = {'Date':US.date,'Total_Cases':US.total_cases,'New_Cases':US.new_cases}\n",
    "series = {'Date':US.date,'New_Cases':US.new_cases}\n",
    "data = pd.DataFrame(series).dropna()\n",
    "data"
   ]
  },
  {
   "cell_type": "markdown",
   "metadata": {},
   "source": [
    "<font size=\"5\">Data Preprocessing</font>"
   ]
  },
  {
   "cell_type": "markdown",
   "metadata": {},
   "source": [
    "<font size=\"4\"> In this section of data preprocessing, we used the columns of new cases as the dependent variable(y) and the number of days in the first column as the independent variable, aka the predictor, X. </font>"
   ]
  },
  {
   "cell_type": "code",
   "execution_count": 10,
   "metadata": {},
   "outputs": [
    {
     "data": {
      "text/html": [
       "<div>\n",
       "<style scoped>\n",
       "    .dataframe tbody tr th:only-of-type {\n",
       "        vertical-align: middle;\n",
       "    }\n",
       "\n",
       "    .dataframe tbody tr th {\n",
       "        vertical-align: top;\n",
       "    }\n",
       "\n",
       "    .dataframe thead th {\n",
       "        text-align: right;\n",
       "    }\n",
       "</style>\n",
       "<table border=\"1\" class=\"dataframe\">\n",
       "  <thead>\n",
       "    <tr style=\"text-align: right;\">\n",
       "      <th></th>\n",
       "      <th>Date</th>\n",
       "      <th>New_Cases</th>\n",
       "    </tr>\n",
       "  </thead>\n",
       "  <tbody>\n",
       "    <tr>\n",
       "      <th>126473</th>\n",
       "      <td>2020-01-23</td>\n",
       "      <td>0.0</td>\n",
       "    </tr>\n",
       "    <tr>\n",
       "      <th>126474</th>\n",
       "      <td>2020-01-24</td>\n",
       "      <td>1.0</td>\n",
       "    </tr>\n",
       "    <tr>\n",
       "      <th>126475</th>\n",
       "      <td>2020-01-25</td>\n",
       "      <td>0.0</td>\n",
       "    </tr>\n",
       "    <tr>\n",
       "      <th>126476</th>\n",
       "      <td>2020-01-26</td>\n",
       "      <td>3.0</td>\n",
       "    </tr>\n",
       "    <tr>\n",
       "      <th>126477</th>\n",
       "      <td>2020-01-27</td>\n",
       "      <td>0.0</td>\n",
       "    </tr>\n",
       "    <tr>\n",
       "      <th>...</th>\n",
       "      <td>...</td>\n",
       "      <td>...</td>\n",
       "    </tr>\n",
       "    <tr>\n",
       "      <th>127133</th>\n",
       "      <td>2021-11-13</td>\n",
       "      <td>47499.0</td>\n",
       "    </tr>\n",
       "    <tr>\n",
       "      <th>127134</th>\n",
       "      <td>2021-11-14</td>\n",
       "      <td>24810.0</td>\n",
       "    </tr>\n",
       "    <tr>\n",
       "      <th>127135</th>\n",
       "      <td>2021-11-15</td>\n",
       "      <td>142099.0</td>\n",
       "    </tr>\n",
       "    <tr>\n",
       "      <th>127136</th>\n",
       "      <td>2021-11-16</td>\n",
       "      <td>87481.0</td>\n",
       "    </tr>\n",
       "    <tr>\n",
       "      <th>127137</th>\n",
       "      <td>2021-11-17</td>\n",
       "      <td>111106.0</td>\n",
       "    </tr>\n",
       "  </tbody>\n",
       "</table>\n",
       "<p>665 rows × 2 columns</p>\n",
       "</div>"
      ],
      "text/plain": [
       "              Date  New_Cases\n",
       "126473  2020-01-23        0.0\n",
       "126474  2020-01-24        1.0\n",
       "126475  2020-01-25        0.0\n",
       "126476  2020-01-26        3.0\n",
       "126477  2020-01-27        0.0\n",
       "...            ...        ...\n",
       "127133  2021-11-13    47499.0\n",
       "127134  2021-11-14    24810.0\n",
       "127135  2021-11-15   142099.0\n",
       "127136  2021-11-16    87481.0\n",
       "127137  2021-11-17   111106.0\n",
       "\n",
       "[665 rows x 2 columns]"
      ]
     },
     "execution_count": 10,
     "metadata": {},
     "output_type": "execute_result"
    }
   ],
   "source": [
    "data"
   ]
  },
  {
   "cell_type": "markdown",
   "metadata": {},
   "source": [
    "<font size=\"4\">We used matplotlib to show the graph of new cases in time series. The graph suggests there are three surges(waves) of COVID-19 new cases in the US, which corresponeds to three separate lockdowns.\n",
    "\n",
    "Also, in order to use time as the index in the x-axis, we time stamp the date and replace the index with the new index date</font>"
   ]
  },
  {
   "cell_type": "code",
   "execution_count": 11,
   "metadata": {},
   "outputs": [
    {
     "data": {
      "text/plain": [
       "Text(0, 0.5, 'New Cases')"
      ]
     },
     "execution_count": 11,
     "metadata": {},
     "output_type": "execute_result"
    },
    {
     "data": {
      "image/png": "[encoded data removed]",
      "text/plain": [
       "<Figure size 720x360 with 1 Axes>"
      ]
     },
     "metadata": {
      "needs_background": "light"
     },
     "output_type": "display_data"
    }
   ],
   "source": [
    "timeData = data.copy()\n",
    "timeData.Date = pd.to_datetime(timeData.Date)\n",
    "timeData = timeData.set_index('Date')\n",
    "sc1 = StandardScaler()\n",
    "sc2 = StandardScaler()\n",
    "plt.figure(figsize=(10,5))\n",
    "plt.plot(timeData.New_Cases)\n",
    "plt.title('New cases versus Time')\n",
    "plt.xlabel(\"Time\")\n",
    "plt.ylabel(\"New Cases\")"
   ]
  },
  {
   "cell_type": "markdown",
   "metadata": {},
   "source": [
    "<font size=\"4\">Our graph has shown that three have been three surges of COVID-19 new cases in the US, which is also confirmed by the Forbes news. The courtesy of the Forbes is available at https://www.forbes.com/sites/johndrake/2020/12/07/the-real-cause-of-americas-third-wave-of-covid-19/?sh=598fe57f12fd\n",
    "    \n",
    "Here we want to take a closer look at these three stages and analyze each of them by using machine learning algorithm such as polynomial regression using time as the predictor and the support vector machine. And in the end, we'll try to use the algorithm to predict the future trend in three months(100 days).</font>"
   ]
  },
  {
   "cell_type": "code",
   "execution_count": 14,
   "metadata": {},
   "outputs": [],
   "source": [
    "# The first wave stage\n",
    "first = data[data['Date'].between('2020-02-29', '2020-05-31', inclusive=True)]\n",
    "# The second wave stage\n",
    "second = data[data['Date'].between('2020-06-01', '2020-09-03', inclusive=True)]\n",
    "# The third wave stage\n",
    "third = data[data['Date'].between('2020-09-04', '2021-02-15', inclusive=True)]\n",
    "# The fouth stage, which is the post-third wave stage\n",
    "postThird = data[data['Date'].between('2021-02-20', '2021-06-02', inclusive=True)]\n",
    "# Current Stage\n",
    "current = data[data['Date'].between('2021-08-15','2021-11-15',inclusive = True)]\n",
    "\n",
    "vec = []\n",
    "for i in range(93):\n",
    "    vec.append(i+1)\n",
    "first.loc[:,'Days'] = vec\n",
    "\n",
    "vec = []\n",
    "for i in range(95):\n",
    "    vec.append(i+1)\n",
    "second.loc[:,'Days'] = vec\n",
    "\n",
    "vec = []\n",
    "for i in range(165):\n",
    "    vec.append(i+1)\n",
    "third.loc[:,'Days'] = vec\n",
    "\n",
    "vec = []\n",
    "for i in range(103):\n",
    "    vec.append(i+1)\n",
    "postThird.loc[:,'Days'] = vec\n",
    "\n",
    "vec = []\n",
    "for i in range(len(current)):\n",
    "    vec.append(i+1)\n",
    "current.loc[:,'Days'] = vec\n"
   ]
  },
  {
   "cell_type": "markdown",
   "metadata": {},
   "source": [
    "<font size=\"5\">Model: Polynomial Regression</font>\n",
    "    \n",
    "In this section we use the polynomial regression to fit the current and predict the future trend of new cases each day."
   ]
  },
  {
   "cell_type": "markdown",
   "metadata": {},
   "source": [
    "<font size=\"4\">Model selection: We compare polynomial regression models of different degrees (0 to 10) using number of days as the predictor. We use 10-fold cross-validation to compare polynomial regression models  and select the K-degree that provides the lowest test set error.</font>\n"
   ]
  },
  {
   "cell_type": "code",
   "execution_count": 15,
   "metadata": {},
   "outputs": [],
   "source": [
    "class polymodel:\n",
    "\n",
    "    def __init__(self, name, degree):\n",
    "        self.Name = name\n",
    "        self.Degree = degree\n",
    "        self.Model = None\n",
    "\n",
    "    def modelfit(self, a, b):\n",
    "        features = PolynomialFeatures(degree=self.Degree)\n",
    "        aply = features.fit_transform(a)\n",
    "        self.Model = LinearRegression()\n",
    "        self.Model.fit(aply, b)\n",
    "\n",
    "    def prediction(self, a):\n",
    "        features = PolynomialFeatures(degree=self.Degree)\n",
    "        apoly = features.fit_transform(a)\n",
    "        rd = np.round(self.Model.predict(apoly), 0)\n",
    "        rd = rd.astype(np.int32)\n",
    "        return rd"
   ]
  },
  {
   "cell_type": "code",
   "execution_count": 23,
   "metadata": {},
   "outputs": [],
   "source": [
    "vec = []\n",
    "kf = KFold(n_splits=10,shuffle = True)\n",
    "for i in range(10):\n",
    "    MSE = []     \n",
    "    \n",
    "    for tr, te in kf.split(current):\n",
    "        test = current.iloc[te, : ]\n",
    "        train = current.iloc[tr, : ]\n",
    "        x_train = np.array(train[\"Days\"]).reshape(-1, 1)\n",
    "        y_train = np.array(train[\"New_Cases\"]).reshape(-1,1)\n",
    "        rmodel = polymodel(\"Fitting new Cases with Polynomial Regression Degree =(%i)\"%i, i)\n",
    "        rmodel.modelfit(x_train, y_train)\n",
    "        X = np.array(test[\"Days\"]).reshape(-1, 1)\n",
    "        Y = np.array(test[\"New_Cases\"]).reshape(-1,1)\n",
    "        Y_pred = rmodel.prediction(X)\n",
    "        mse = mean_squared_error(Y,Y_pred)\n",
    "        MSE.append(mse)\n",
    "    \n",
    "    miu = np.mean(MSE)   \n",
    "    vec.append({'Degrees':i,'MSEV':miu})"
   ]
  },
  {
   "cell_type": "code",
   "execution_count": 24,
   "metadata": {},
   "outputs": [
    {
     "data": {
      "text/plain": [
       "[<matplotlib.lines.Line2D at 0x2c105f712c8>]"
      ]
     },
     "execution_count": 24,
     "metadata": {},
     "output_type": "execute_result"
    },
    {
     "data": {
      "image/png": "[encoded data removed]",
      "text/plain": [
       "<Figure size 432x288 with 1 Axes>"
      ]
     },
     "metadata": {
      "needs_background": "light"
     },
     "output_type": "display_data"
    }
   ],
   "source": [
    "plt.plot(range(len(X)),Y_pred)"
   ]
  },
  {
   "cell_type": "code",
   "execution_count": 25,
   "metadata": {
    "scrolled": true
   },
   "outputs": [
    {
     "data": {
      "text/plain": [
       "Text(0, 0.5, 'MSE')"
      ]
     },
     "execution_count": 25,
     "metadata": {},
     "output_type": "execute_result"
    },
    {
     "data": {
      "image/png": "[encoded data removed]",
      "text/plain": [
       "<Figure size 432x288 with 1 Axes>"
      ]
     },
     "metadata": {
      "needs_background": "light"
     },
     "output_type": "display_data"
    }
   ],
   "source": [
    "vec = pd.DataFrame(vec)\n",
    "plt.plot(vec.Degrees,vec.MSEV)\n",
    "plt.xlabel(\"Number of Degrees\")\n",
    "plt.ylabel(\"MSE\")"
   ]
  },
  {
   "cell_type": "code",
   "execution_count": 26,
   "metadata": {},
   "outputs": [],
   "source": [
    "deg = vec.loc[vec.MSEV.argmin(),:].Degrees.astype(np.int64)\n",
    "x = np.array(current[\"Days\"]).reshape([-1,1])\n",
    "y = np.array(current[\"New_Cases\"]).reshape([-1,1])\n",
    "#Fit the polynomial model\n",
    "pm = polymodel(\"Polynomial Regression\", deg)\n",
    "pm.modelfit(x, y)\n",
    "# Using the polynomial model to predict the new cases \n",
    "pred = pm.prediction(x)"
   ]
  },
  {
   "cell_type": "code",
   "execution_count": 27,
   "metadata": {},
   "outputs": [
    {
     "data": {
      "text/plain": [
       "Text(0, 0.5, 'Number of New Cases')"
      ]
     },
     "execution_count": 27,
     "metadata": {},
     "output_type": "execute_result"
    },
    {
     "data": {
      "image/png": "[encoded data removed]",
      "text/plain": [
       "<Figure size 432x288 with 1 Axes>"
      ]
     },
     "metadata": {
      "needs_background": "light"
     },
     "output_type": "display_data"
    }
   ],
   "source": [
    "plt.scatter(x, y, s=10)\n",
    "plt.plot(x, pred, color='m')\n",
    "plt.title(\"Fitting New Cases Each Day in the current Period:'2021-08-15'-'2021-11-15' using degree Degree = %deg\"%deg)\n",
    "plt.xlabel(\"Number of Days in the Current Period\")\n",
    "plt.ylabel(\"Number of New Cases\")"
   ]
  },
  {
   "cell_type": "markdown",
   "metadata": {},
   "source": [
    "As suggested by the figure, the similarity between the actual values and the fitted curves look pretty ideal, we managed to predict the new cases of this period as a polynomial regression model of degree 4."
   ]
  },
  {
   "cell_type": "markdown",
   "metadata": {},
   "source": [
    "Model estimation:\n",
    "                               \n",
    "                               Y = 1+t+t^2+t^3+t^4+t^5 \n",
    "                               \n",
    "Y is the number of new cases each day and t is the number of days."
   ]
  },
  {
   "cell_type": "markdown",
   "metadata": {},
   "source": [
    "<font size=\"5\">Prediction using Polynomial Regression<font>"
   ]
  },
  {
   "cell_type": "markdown",
   "metadata": {},
   "source": [
    "By using the polynomial of degree 5, which is the best model among all polynomial models, we can predict the future value by using the model estimation"
   ]
  },
  {
   "cell_type": "code",
   "execution_count": 30,
   "metadata": {},
   "outputs": [
    {
     "data": {
      "text/plain": [
       "[<matplotlib.lines.Line2D at 0x2c1061fd388>]"
      ]
     },
     "execution_count": 30,
     "metadata": {},
     "output_type": "execute_result"
    },
    {
     "data": {
      "image/png": "[encoded data removed]",
      "text/plain": [
       "<Figure size 432x288 with 1 Axes>"
      ]
     },
     "metadata": {
      "needs_background": "light"
     },
     "output_type": "display_data"
    }
   ],
   "source": [
    "arr = np.array(range(0, 60)).reshape(-1, 1)\n",
    "pred = pm.prediction(arr)\n",
    "plt.plot(pred)"
   ]
  },
  {
   "cell_type": "markdown",
   "metadata": {},
   "source": [
    "<font size=\"3\">The graph suggests that, in the next two months, there could be decreasing trend of COVID-19 in the US.</font>"
   ]
  },
  {
   "cell_type": "markdown",
   "metadata": {},
   "source": [
    "<font size=\"5\">Model: Support Vector Machine<font>"
   ]
  },
  {
   "cell_type": "markdown",
   "metadata": {},
   "source": [
    "In this section we use the Support Vector Machine to fit the current and predict the future trend of new cases each day.\n",
    "\n",
    "<font size=\"3\">Model selection: We compare SVM model to fit the current trend and predict the future trend using number of days as the predictor. We use 10-fold cross-validation to compare polynomial regression models and SVm to select the best model that provides the lowest test set error.</font>"
   ]
  },
  {
   "cell_type": "code",
   "execution_count": 37,
   "metadata": {},
   "outputs": [
    {
     "name": "stderr",
     "output_type": "stream",
     "text": [
      "C:\\Users\\16348\\anaconda3\\lib\\site-packages\\sklearn\\utils\\validation.py:760: DataConversionWarning: A column-vector y was passed when a 1d array was expected. Please change the shape of y to (n_samples, ), for example using ravel().\n",
      "  y = column_or_1d(y, warn=True)\n",
      "C:\\Users\\16348\\anaconda3\\lib\\site-packages\\sklearn\\utils\\validation.py:760: DataConversionWarning: A column-vector y was passed when a 1d array was expected. Please change the shape of y to (n_samples, ), for example using ravel().\n",
      "  y = column_or_1d(y, warn=True)\n",
      "C:\\Users\\16348\\anaconda3\\lib\\site-packages\\sklearn\\utils\\validation.py:760: DataConversionWarning: A column-vector y was passed when a 1d array was expected. Please change the shape of y to (n_samples, ), for example using ravel().\n",
      "  y = column_or_1d(y, warn=True)\n",
      "C:\\Users\\16348\\anaconda3\\lib\\site-packages\\sklearn\\utils\\validation.py:760: DataConversionWarning: A column-vector y was passed when a 1d array was expected. Please change the shape of y to (n_samples, ), for example using ravel().\n",
      "  y = column_or_1d(y, warn=True)\n",
      "C:\\Users\\16348\\anaconda3\\lib\\site-packages\\sklearn\\utils\\validation.py:760: DataConversionWarning: A column-vector y was passed when a 1d array was expected. Please change the shape of y to (n_samples, ), for example using ravel().\n",
      "  y = column_or_1d(y, warn=True)\n",
      "C:\\Users\\16348\\anaconda3\\lib\\site-packages\\sklearn\\utils\\validation.py:760: DataConversionWarning: A column-vector y was passed when a 1d array was expected. Please change the shape of y to (n_samples, ), for example using ravel().\n",
      "  y = column_or_1d(y, warn=True)\n",
      "C:\\Users\\16348\\anaconda3\\lib\\site-packages\\sklearn\\utils\\validation.py:760: DataConversionWarning: A column-vector y was passed when a 1d array was expected. Please change the shape of y to (n_samples, ), for example using ravel().\n",
      "  y = column_or_1d(y, warn=True)\n",
      "C:\\Users\\16348\\anaconda3\\lib\\site-packages\\sklearn\\utils\\validation.py:760: DataConversionWarning: A column-vector y was passed when a 1d array was expected. Please change the shape of y to (n_samples, ), for example using ravel().\n",
      "  y = column_or_1d(y, warn=True)\n",
      "C:\\Users\\16348\\anaconda3\\lib\\site-packages\\sklearn\\utils\\validation.py:760: DataConversionWarning: A column-vector y was passed when a 1d array was expected. Please change the shape of y to (n_samples, ), for example using ravel().\n",
      "  y = column_or_1d(y, warn=True)\n",
      "C:\\Users\\16348\\anaconda3\\lib\\site-packages\\sklearn\\utils\\validation.py:760: DataConversionWarning: A column-vector y was passed when a 1d array was expected. Please change the shape of y to (n_samples, ), for example using ravel().\n",
      "  y = column_or_1d(y, warn=True)\n"
     ]
    }
   ],
   "source": [
    "X_original = np.arange(len(current))\n",
    "\n",
    "y_original = current.iloc[:,1].values.astype(float)\n",
    "\n",
    "kf = KFold(n_splits=10,shuffle = True)\n",
    "MSE = []     \n",
    "dft = 'rbf'\n",
    "for tr, te in kf.split(current):\n",
    "    test = current.iloc[te, : ]\n",
    "    train = current.iloc[tr, : ]\n",
    "    x = np.array(train[\"Days\"]).reshape(-1, 1)\n",
    "    y = np.array(train[\"New_Cases\"]).reshape(-1,1)\n",
    "    x = sc1.fit_transform(x)\n",
    "    y = sc2.fit_transform(y)       \n",
    "\n",
    "    #Fit the SVM model\n",
    "    svm = SVR(kernel=dft)\n",
    "    svm.fit(x,y)\n",
    "    \n",
    "    X = np.array(test[\"Days\"]).reshape(-1, 1)\n",
    "    Y = np.array(test[\"New_Cases\"]).reshape(-1,1)\n",
    "    X = sc1.transform(X)\n",
    "    Y = sc2.transform(Y)\n",
    "    pred = svm.predict(X)\n",
    "    mse = mean_squared_error(Y,pred)\n",
    "    MSE.append(mse)"
   ]
  },
  {
   "cell_type": "code",
   "execution_count": 38,
   "metadata": {},
   "outputs": [
    {
     "data": {
      "text/plain": [
       "0.7846592995500518"
      ]
     },
     "execution_count": 38,
     "metadata": {},
     "output_type": "execute_result"
    }
   ],
   "source": [
    "np.mean(MSE)"
   ]
  },
  {
   "cell_type": "code",
   "execution_count": 49,
   "metadata": {},
   "outputs": [
    {
     "data": {
      "image/png": "[encoded data removed]",
      "text/plain": [
       "<Figure size 432x288 with 1 Axes>"
      ]
     },
     "metadata": {
      "needs_background": "light"
     },
     "output_type": "display_data"
    }
   ],
   "source": [
    "#plot the regression fit with original data\n",
    "X = np.array(current[\"Days\"]).reshape(-1, 1)\n",
    "X = sc1.transform(X)\n",
    "pred = svm.predict(X)\n",
    "pred = sc2.inverse_transform(pred)\n",
    "pred = np.array(pred)\n",
    "pred = pred.reshape(-1,1)\n",
    "test = sc1.inverse_transform(X)\n",
    "test = np.array(test)\n",
    "\n",
    "plt.scatter(X_original, y_original, color = 'r', label = 'Original SET')\n",
    "plt.scatter(test, pred, color = 'g', label = 'Test SET')\n",
    "plt.title('Support Vector Regression on COVID19')\n",
    "plt.xlabel('Number of Days')\n",
    "plt.ylabel('New Cases on daily basis')\n",
    "plt.legend()\n",
    "plt.show()"
   ]
  },
  {
   "cell_type": "markdown",
   "metadata": {},
   "source": [
    "As suggested by the figure, the similarity between the actual values and the fitted curves look pretty ideal, we managed to predict the new cases of third period as a SVM model."
   ]
  },
  {
   "cell_type": "markdown",
   "metadata": {},
   "source": [
    "<font size=\"3\">Prediction USING SVM<font>"
   ]
  },
  {
   "cell_type": "code",
   "execution_count": 48,
   "metadata": {},
   "outputs": [
    {
     "data": {
      "text/plain": [
       "[<matplotlib.lines.Line2D at 0x2c10672ae88>]"
      ]
     },
     "execution_count": 48,
     "metadata": {},
     "output_type": "execute_result"
    },
    {
     "data": {
      "image/png": "[encoded data removed]",
      "text/plain": [
       "<Figure size 432x288 with 1 Axes>"
      ]
     },
     "metadata": {
      "needs_background": "light"
     },
     "output_type": "display_data"
    }
   ],
   "source": [
    "#predict the future COVID new cases by putting in number of days from now on\n",
    "vec = []\n",
    "for i in range(60):\n",
    "    i = i+100\n",
    "    tran = sc1.transform([[i]])\n",
    "    pred = svm.predict(tran)\n",
    "    pred = sc2.inverse_transform(pred)\n",
    "    vec.append(pred)\n",
    "\n",
    "plt.plot(vec)"
   ]
  },
  {
   "cell_type": "markdown",
   "metadata": {},
   "source": [
    "<font size=\"4\">By using the SVM model we fit, we get the same conclusion as before (using polynomial regression) that the number of cases in the future 30 days will increase almost in quadratic growth and therefore there could potentially be another wave of COVID-19 in the US.</font>"
   ]
  },
  {
   "cell_type": "code",
   "execution_count": null,
   "metadata": {},
   "outputs": [],
   "source": []
  }
 ],
 "metadata": {
  "kernelspec": {
   "display_name": "Python 3",
   "language": "python",
   "name": "python3"
  },
  "language_info": {
   "codemirror_mode": {
    "name": "ipython",
    "version": 3
   },
   "file_extension": ".py",
   "mimetype": "text/x-python",
   "name": "python",
   "nbconvert_exporter": "python",
   "pygments_lexer": "ipython3",
   "version": "3.7.6"
  }
 },
 "nbformat": 4,
 "nbformat_minor": 4
}
